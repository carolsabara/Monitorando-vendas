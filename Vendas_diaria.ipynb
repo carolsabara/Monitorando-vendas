{
  "nbformat": 4,
  "nbformat_minor": 0,
  "metadata": {
    "colab": {
      "provenance": []
    },
    "kernelspec": {
      "name": "python3",
      "display_name": "Python 3"
    },
    "language_info": {
      "name": "python"
    }
  },
  "cells": [
    {
      "cell_type": "code",
      "source": [
        "from datetime import datetime as dt"
      ],
      "metadata": {
        "id": "5n2n0WOj9GjL"
      },
      "execution_count": 2,
      "outputs": []
    },
    {
      "cell_type": "code",
      "source": [
        "hoje =dt.today()\n",
        "mes_atual = hoje.strftime('%m-%Y')\n",
        "dia_atual = hoje.strftime('%d-%m-%Y')"
      ],
      "metadata": {
        "id": "VO_amgQB9TnC"
      },
      "execution_count": 3,
      "outputs": []
    },
    {
      "cell_type": "code",
      "source": [
        "vo = f'vendas_{mes_atual}.txt'"
      ],
      "metadata": {
        "id": "SM3s-4nc9V0E"
      },
      "execution_count": 4,
      "outputs": []
    },
    {
      "cell_type": "code",
      "source": [
        "try:\n",
        "     with open(arquivo, 'r') as f:\n",
        "         vendas = f.read().split(',')\n",
        "         bolos_total = int(vendas[0] )\n",
        "         tortas_total = int(vendas[1])\n",
        "         doces_total = int(vendas[2])\n",
        "         salgados_total = int(vendas[3])\n",
        "\n",
        "except FileNotFoundError:\n",
        "    bolos_total = 0\n",
        "    tortas_total = 0\n",
        "    doces_total = 0\n",
        "    salgados_total = 0"
      ],
      "metadata": {
        "id": "oHYsTds-9YDL"
      },
      "execution_count": 5,
      "outputs": []
    },
    {
      "cell_type": "code",
      "source": [
        "\n",
        "print(f'\\nData de hoje: {dia_atual}')\n",
        "bolos = int(input('Quantos bolos foram vendidos hoje? '))\n",
        "tortas = int(input('Quantas tortas foram vendidas hoje? '))\n",
        "doces = int(input('Quantos doces foram vendidos hoje? '))\n",
        "salgados = int(input('Quantos salgados foram vendidos hoje? '))\n"
      ],
      "metadata": {
        "colab": {
          "base_uri": "https://localhost:8080/"
        },
        "id": "tFvGPZ3b9aGd",
        "outputId": "38f5985d-f559-4be9-9e8a-333c53d8a78a"
      },
      "execution_count": 6,
      "outputs": [
        {
          "name": "stdout",
          "output_type": "stream",
          "text": [
            "\n",
            "Data de hoje: 16-10-2025\n",
            "Quantos bolos foram vendidos hoje? 60\n",
            "Quantas tortas foram vendidas hoje? 30\n",
            "Quantos doces foram vendidos hoje? 40\n",
            "Quantos salgados foram vendidos hoje? 12\n"
          ]
        }
      ]
    },
    {
      "cell_type": "code",
      "source": [
        "bolos_total += bolos\n",
        "tortas_total += tortas\n",
        "doces_total += doces\n",
        "salgados_total += salgados"
      ],
      "metadata": {
        "id": "izvgfqtp9e06"
      },
      "execution_count": 7,
      "outputs": []
    },
    {
      "cell_type": "code",
      "source": [
        "\n",
        "if bolos_total > 50:\n",
        "    print('Hoje foi vendido mais de 50 bolos! Meta batida!')\n",
        "elif tortas_total < 50:\n",
        "    print('Hoje foi vendido menos de 50 tortas! Meta não batida!')\n",
        "elif doces_total == salgados_total:\n",
        "    print('Hoje foi vendido a mesma quantidade de doces e salgados!')"
      ],
      "metadata": {
        "id": "al3z_78w9h3r"
      },
      "execution_count": 7,
      "outputs": []
    },
    {
      "cell_type": "code",
      "source": [
        "with open(arquivo, 'w') as f:\n",
        "    f.write(f\"{bolos_total},{tortas_total},{doces_total},{salgados_total}\")\n",
        "\n",
        "print(f'\\nTotais atualizados e salvos em \"{arquivo}\".')"
      ],
      "metadata": {
        "colab": {
          "base_uri": "https://localhost:8080/"
        },
        "id": "G92eS5NE9nj4",
        "outputId": "0b8b628e-9bc8-4ac9-8b79-3a2f1e65e36f"
      },
      "execution_count": 8,
      "outputs": [
        {
          "output_type": "stream",
          "name": "stdout",
          "text": [
            "\n",
            "Totais atualizados e salvos em \"vendas_10-2025.txt\".\n"
          ]
        }
      ]
    },
    {
      "cell_type": "code",
      "source": [
        "\n",
        "\n",
        "import matplotlib.pyplot as plt"
      ],
      "metadata": {
        "id": "qbJMojwF9qEx"
      },
      "execution_count": 9,
      "outputs": []
    },
    {
      "cell_type": "code",
      "source": [
        "plt.bar(['Bolos', 'Tortas', 'Doces', 'Salgados'], [bolos_total, tortas_total, doces_total, salgados_total], color=['#ff9999','#66b3ff','#99ff99','#ffcc99'] )\n",
        "plt.title('Vendas Totais')\n",
        "plt.xlabel('Produtos')\n",
        "plt.ylabel('Quantidade Vendida')\n",
        "plt.show()"
      ],
      "metadata": {
        "colab": {
          "base_uri": "https://localhost:8080/",
          "height": 472
        },
        "id": "uSiFvBHM9s0r",
        "outputId": "5555f561-4767-4e74-bbc8-ecc2cfdb979e"
      },
      "execution_count": 13,
      "outputs": [
        {
          "output_type": "display_data",
          "data": {
            "text/plain": [
              "<Figure size 640x480 with 1 Axes>"
            ],
            "image/png": "[encoded data removed]"
          },
          "metadata": {}
        }
      ]
    },
    {
      "cell_type": "code",
      "source": [],
      "metadata": {
        "id": "7loIxpF89ulH"
      },
      "execution_count": null,
      "outputs": []
    }
  ]
}
